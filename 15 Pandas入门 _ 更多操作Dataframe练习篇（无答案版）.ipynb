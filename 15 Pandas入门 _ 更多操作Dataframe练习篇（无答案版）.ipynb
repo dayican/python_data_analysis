{
 "cells": [
  {
   "cell_type": "markdown",
   "id": "19413aad",
   "metadata": {},
   "source": [
    "#### 写出导入pandas的语句，并且给pandas别名为`pd`。"
   ]
  },
  {
   "cell_type": "code",
   "execution_count": null,
   "id": "74b1dbfc",
   "metadata": {},
   "outputs": [],
   "source": []
  },
  {
   "cell_type": "markdown",
   "id": "9fe373ba",
   "metadata": {},
   "source": [
    "#### 创建一个名为`students`的DataFrame，包含数据如下：\n",
    "```{\"001\": {\"姓名\": \"小陈\", \"考试1\": 85, \"考试2\": 95, \"考试3\": 92},\n",
    " \"002\": {\"姓名\": \"小李\", \"考试1\": 91, \"考试2\": 92, \"考试3\": 94},\n",
    " \"003\": {\"姓名\": \"小王\", \"考试1\": 86, \"考试2\": 81, \"考试3\": 89},\n",
    " \"004\": {\"姓名\": \"小张\", \"考试1\": 79, \"考试2\": 89, \"考试3\": 95},\n",
    " \"005\": {\"姓名\": \"小赵\", \"考试1\": 96, \"考试2\": 91, \"考试3\": 91},\n",
    " \"006\": {\"姓名\": \"小周\", \"考试1\": 81, \"考试2\": 89, \"考试3\": 92}\n",
    " }```\n",
    " \n",
    " #### 要求学号（001、002等）为索引，姓名、考试1、考试2、考试3为列名，并输出创建好的DataFrame。"
   ]
  },
  {
   "cell_type": "code",
   "execution_count": null,
   "id": "7f8b7952",
   "metadata": {},
   "outputs": [],
   "source": []
  },
  {
   "cell_type": "markdown",
   "id": "d8e6c121",
   "metadata": {},
   "source": [
    "#### 创建一个叫`student_average`的DataFrame，索引为学号，包含姓名列（列名为“姓名”），以及计算出四次考试平均值后的结果列（列名为“平均分”）。"
   ]
  },
  {
   "cell_type": "code",
   "execution_count": null,
   "id": "625913c0",
   "metadata": {},
   "outputs": [],
   "source": []
  },
  {
   "cell_type": "markdown",
   "id": "05a3003f",
   "metadata": {},
   "source": [
    "#### 输出每次考试第二高的分数组成的Series，可以尝试结合匿名函数。"
   ]
  },
  {
   "cell_type": "code",
   "execution_count": null,
   "id": "d08ff9f1",
   "metadata": {},
   "outputs": [],
   "source": []
  },
  {
   "cell_type": "markdown",
   "id": "f2d4a3b0",
   "metadata": {},
   "source": [
    "#### 根据以下规则，输出每个学号对应的四次考试的等级：\n",
    "- A+：平均分 >= 95\n",
    "- A：90 <= 平均分 < 95\n",
    "- B+：85 <= 平均分 < 90\n",
    "- B：80 <= 平均分 < 85\n",
    "- C+：75 <= 平均分 < 80\n",
    "- C：平均分 < 75"
   ]
  },
  {
   "cell_type": "code",
   "execution_count": null,
   "id": "80d3983e",
   "metadata": {},
   "outputs": [],
   "source": []
  },
  {
   "cell_type": "markdown",
   "id": "3bf7cfa4",
   "metadata": {},
   "source": [
    "#### 展示`students`每个考试分数数据列的统计信息，包括个数、平均值、标准差、四分位数等。"
   ]
  },
  {
   "cell_type": "code",
   "execution_count": null,
   "id": "460318f3",
   "metadata": {},
   "outputs": [],
   "source": []
  }
 ],
 "metadata": {
  "kernelspec": {
   "display_name": "Python 3",
   "language": "python",
   "name": "python3"
  },
  "language_info": {
   "codemirror_mode": {
    "name": "ipython",
    "version": 3
   },
   "file_extension": ".py",
   "mimetype": "text/x-python",
   "name": "python",
   "nbconvert_exporter": "python",
   "pygments_lexer": "ipython3",
   "version": "3.8.1"
  }
 },
 "nbformat": 4,
 "nbformat_minor": 5
}
